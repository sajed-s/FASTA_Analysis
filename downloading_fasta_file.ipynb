{
  "nbformat": 4,
  "nbformat_minor": 0,
  "metadata": {
    "colab": {
      "provenance": [],
      "authorship_tag": "ABX9TyOi6ZZ+zftsaIxRgWv9aNoO",
      "include_colab_link": true
    },
    "kernelspec": {
      "name": "python3",
      "display_name": "Python 3"
    },
    "language_info": {
      "name": "python"
    }
  },
  "cells": [
    {
      "cell_type": "markdown",
      "metadata": {
        "id": "view-in-github",
        "colab_type": "text"
      },
      "source": [
        "<a href=\"https://colab.research.google.com/github/sajed-s/FASTA_Analysis/blob/main/downloading_fasta_file.ipynb\" target=\"_parent\"><img src=\"https://colab.research.google.com/assets/colab-badge.svg\" alt=\"Open In Colab\"/></a>"
      ]
    },
    {
      "cell_type": "markdown",
      "source": [
        "# Importing the libreries"
      ],
      "metadata": {
        "id": "-mPl0yJ_Hj-y"
      }
    },
    {
      "cell_type": "code",
      "source": [
        "import dendropy\n",
        "from dendropy.interop import genbank\n",
        "import pandas as pd\n",
        "from Bio import SeqIO"
      ],
      "metadata": {
        "id": "qgnbqlguJC5L"
      },
      "execution_count": null,
      "outputs": []
    },
    {
      "cell_type": "markdown",
      "source": [
        "# Importing the text file of gene IDs"
      ],
      "metadata": {
        "id": "EFB57DooJISm"
      }
    },
    {
      "cell_type": "code",
      "source": [
        "with open(\"E:\\python\\FMD\\GI_A.txt\", \"r\") as my_file:\n",
        "    data = my_file.read()\n",
        "    GIlist = data.replace('\\n', ' ').split(\" \")\n",
        "\n",
        "data_part1 = GIlist[0:200]\n",
        "data_part2 = GIlist[200:]"
      ],
      "metadata": {
        "id": "DS4Yn-gIJGwJ"
      },
      "execution_count": null,
      "outputs": []
    },
    {
      "cell_type": "markdown",
      "source": [
        "# Extracting the data"
      ],
      "metadata": {
        "id": "gZ14xTrVJSVx"
      }
    },
    {
      "cell_type": "code",
      "source": [
        "gene_id = []\n",
        "date = []\n",
        "organism = []\n",
        "title = []\n",
        "journal = []\n",
        "pubmed_id = []\n",
        "\n",
        "gb_dna = genbank.GenBankDna(data_part1)\n",
        "for gb_rec in gb_dna:\n",
        "    gene_id.append(gb_rec.gi)\n",
        "    date.append(gb_rec.create_date)\n",
        "    organism.append(gb_rec.organism)\n",
        "    for ref in gb_rec.references:\n",
        "        pubmed_id.append(ref.pubmed_id)\n",
        "        journal.append(ref.journal)\n",
        "        title.append(ref.title)\n",
        "\n",
        "gb_dna = genbank.GenBankDna(data_part2)\n",
        "for gb_rec in gb_dna:\n",
        "    gene_id.append(gb_rec.gi)\n",
        "    date.append(gb_rec.create_date)\n",
        "    organism.append(gb_rec.organism)\n",
        "    for ref in gb_rec.references:\n",
        "        pubmed_id.append(ref.pubmed_id)\n",
        "        journal.append(ref.journal)\n",
        "        title.append(ref.title)"
      ],
      "metadata": {
        "id": "rc91e4dkJRLp"
      },
      "execution_count": null,
      "outputs": []
    },
    {
      "cell_type": "markdown",
      "source": [
        "# Saving the data to CSV files"
      ],
      "metadata": {
        "id": "hqUEbmjFJZLo"
      }
    },
    {
      "cell_type": "code",
      "source": [
        "data_id_org_date = pd.DataFrame({'gene_id': gene_id, 'organism': organism, 'date': date})\n",
        "data_pubmed_journal_title = pd.DataFrame({'journal': journal, 'pubmed_id': pubmed_id, 'title': title})\n",
        "data_id_org_date.to_csv('data_id_org_date_a.csv')\n",
        "data_pubmed_journal_title.to_csv('data_pubmed_journal_a.csv')"
      ],
      "metadata": {
        "id": "IB8pnXNGJW3q"
      },
      "execution_count": null,
      "outputs": []
    },
    {
      "cell_type": "markdown",
      "source": [
        " # Downloading the strains"
      ],
      "metadata": {
        "id": "voGObNSvJafQ"
      }
    },
    {
      "cell_type": "code",
      "source": [
        "def get_fasta_a(ids):\n",
        "    for i in ids:\n",
        "        yield 'strain_a', genbank.GenBankDna(ids=i)\n",
        "\n",
        "sampled1 = open('sample_a1.fasta', 'w')\n",
        "for species, recs in get_fasta_a([data_part1]):\n",
        "    tn = dendropy.TaxonNamespace()\n",
        "    char_mat = recs.generate_char_matrix(taxon_namespace=tn, gb_to_taxon_fn=lambda gb: tn.require_taxon(label='%s_%s' % (species, gb.accession)))\n",
        "    char_mat.write_to_stream(sampled1, 'fasta')\n",
        "sampled1.close()\n",
        "\n",
        "sampled2 = open('sample_a2.fasta', 'w')\n",
        "for species, recs in get_fasta_a([data_part2]):\n",
        "    tn = dendropy.TaxonNamespace()\n",
        "    char_mat = recs.generate_char_matrix(taxon_namespace=tn, gb_to_taxon_fn=lambda gb: tn.require_taxon(label='%s_%s' % (species, gb.accession)))\n",
        "    char_mat.write_to_stream(sampled2, 'fasta')\n",
        "sampled2.close()\n"
      ],
      "metadata": {
        "id": "gxsYmvi-JjqG"
      },
      "execution_count": null,
      "outputs": []
    },
    {
      "cell_type": "markdown",
      "source": [
        "# Merging the fasta files"
      ],
      "metadata": {
        "id": "YM8oIrncJl-G"
      }
    },
    {
      "cell_type": "code",
      "execution_count": null,
      "metadata": {
        "id": "wrl9JNJdHckL"
      },
      "outputs": [],
      "source": [
        "input_files = [\"sample_a1.fasta\", \"sample_a2.fasta\"]\n",
        "output_file = \"total_a.fasta\"\n",
        "\n",
        "with open(output_file, \"w\") as outfile:\n",
        "    for input_file in input_files:\n",
        "        for record in SeqIO.parse(input_file, \"fasta\"):\n",
        "            SeqIO.write(record, outfile, \"fasta\")\n",
        "\n",
        "print(\"Merged fasta files written to\", output_file)\n"
      ]
    }
  ]
}